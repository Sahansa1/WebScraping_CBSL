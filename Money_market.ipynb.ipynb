{
 "cells": [
  {
   "cell_type": "code",
   "execution_count": null,
   "id": "b0f4317a",
   "metadata": {},
   "outputs": [
    {
     "name": "stdout",
     "output_type": "stream",
     "text": [
      "Entered From date: 2025-08-01\n",
      "Entered To date: 2025-08-18\n",
      "Clicked Show button\n",
      "Page should now display results.\n"
     ]
    }
   ],
   "source": [
    "import time\n",
    "from selenium import webdriver\n",
    "from selenium.webdriver.common.by import By\n",
    "from selenium.webdriver.chrome.service import Service\n",
    "from selenium.webdriver.chrome.options import Options\n",
    "from selenium.webdriver.support.ui import WebDriverWait\n",
    "from selenium.webdriver.support import expected_conditions as EC\n",
    "from webdriver_manager.chrome import ChromeDriverManager\n",
    "\n",
    "def show_money_market(from_date=\"2025-05-01\", to_date=\"2025-08-18\", headless=False):\n",
    "    opts = Options()\n",
    "    if headless:\n",
    "        opts.add_argument(\"--headless=new\")\n",
    "\n",
    "    driver = webdriver.Chrome(service=Service(ChromeDriverManager().install()), options=opts)\n",
    "    wait = WebDriverWait(driver, 30)\n",
    "\n",
    "    try:\n",
    "        url = \"https://www.cbsl.lk/eResearch/Modules/RD/SearchPages/Indicators_MoneyMarketSummary.aspx\"\n",
    "        driver.get(url)\n",
    "\n",
    "        # Fill 'From' date\n",
    "        from_input = wait.until(EC.presence_of_element_located((By.ID, \"ContentPlaceHolder1_txtFrom\")))\n",
    "        from_input.clear()\n",
    "        from_input.send_keys(from_date)\n",
    "        print(\"Entered From date:\", from_date)\n",
    "        time.sleep(3)\n",
    "\n",
    "        # Fill 'To' date\n",
    "        to_input = driver.find_element(By.ID, \"ContentPlaceHolder1_txtTo\")\n",
    "        to_input.clear()\n",
    "        to_input.send_keys(to_date)\n",
    "        print(\"Entered To date:\", to_date)\n",
    "        time.sleep(3)\n",
    "\n",
    "        # Click 'Show' button (try known IDs) or press Enter\n",
    "        for btn_id in [\"ContentPlaceHolder1_btnShow\", \"ContentPlaceHolder1_btnSearch\"]:\n",
    "            els = driver.find_elements(By.ID, btn_id)\n",
    "            if els:\n",
    "                els[0].click()\n",
    "                print(\"Clicked Show button\")\n",
    "                break\n",
    "        else:\n",
    "            to_input.send_keys(\"\\n\")\n",
    "            print(\"Pressed Enter instead of Show button\")\n",
    "\n",
    "        print(\"Page should now display results.\")\n",
    "\n",
    "    finally:\n",
    "        # Keep browser open for inspection (optional)\n",
    "        input(\"Press Enter to quit browser...\")\n",
    "        driver.quit()\n",
    "\n",
    "\n",
    "# Example usage:\n",
    "if __name__ == \"__main__\":\n",
    "    show_money_market(\"2025-08-01\", \"2025-08-18\", headless=False)\n",
    "\n"
   ]
  }
 ],
 "metadata": {
  "kernelspec": {
   "display_name": "Python 3.13 (pandas)",
   "language": "python",
   "name": "py313"
  },
  "language_info": {
   "codemirror_mode": {
    "name": "ipython",
    "version": 3
   },
   "file_extension": ".py",
   "mimetype": "text/x-python",
   "name": "python",
   "nbconvert_exporter": "python",
   "pygments_lexer": "ipython3",
   "version": "3.13.5"
  }
 },
 "nbformat": 4,
 "nbformat_minor": 5
}
